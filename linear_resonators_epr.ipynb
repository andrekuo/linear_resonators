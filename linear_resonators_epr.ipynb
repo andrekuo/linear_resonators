{
 "cells": [
  {
   "cell_type": "code",
   "execution_count": 1,
   "id": "737b15fc",
   "metadata": {},
   "outputs": [],
   "source": [
    "%load_ext autoreload\n",
    "%autoreload 2"
   ]
  },
  {
   "cell_type": "code",
   "execution_count": 1,
   "id": "e2101919",
   "metadata": {},
   "outputs": [],
   "source": [
    "from qiskit_metal import draw, Dict, designs, MetalGUI\n",
    "from qiskit_metal.designs.design_multiplanar import MultiPlanar\n",
    "from qiskit_metal.toolbox_metal import math_and_overrides\n",
    "from qiskit_metal.qlibrary.core import QComponent\n",
    "import qiskit_metal as metal\n",
    "# ?metal.qlibrary.core.QComponent.add_qgeometry\n",
    "from qiskit_metal.qlibrary.terminations.launchpad_wb import LaunchpadWirebond\n",
    "from qiskit_metal.qlibrary.terminations.open_to_ground import OpenToGround\n",
    "from qiskit_metal.qlibrary.tlines.straight_path import RouteStraight\n",
    "from qiskit_metal.qlibrary.tlines.anchored_path import RouteAnchors\n",
    "from qiskit_metal.qlibrary.tlines.mixed_path import RouteMixed\n",
    "from qiskit_metal.qlibrary.qubits.transmon_cross import TransmonCross\n",
    "from qiskit_metal.qlibrary.tlines.meandered import RouteMeander\n",
    "from qiskit_metal.qlibrary.terminations.open_to_ground import OpenToGround\n",
    "from qiskit_metal.qlibrary.couplers.coupled_line_tee import CoupledLineTee\n",
    "from qiskit_metal.qlibrary.couplers.cap_n_interdigital_tee import CapNInterdigitalTee\n",
    "from qiskit_metal.qlibrary.couplers.line_tee import LineTee\n",
    "\n",
    "from collections import OrderedDict\n",
    "\n",
    "import numpy as np\n",
    "\n",
    "design = designs.design_planar.DesignPlanar()\n",
    "gui = metal.MetalGUI(design)\n",
    "design.overwrite_enabled = True\n",
    "\n",
    "# dir(QComponent)"
   ]
  },
  {
   "cell_type": "code",
   "execution_count": 2,
   "id": "c4b5a2f2",
   "metadata": {},
   "outputs": [],
   "source": [
    "design._chips.main.size.size_x = '5mm'\n",
    "design._chips.main.size.size_y = '5mm'\n",
    "\n",
    "cpw_width = '11.7um'"
   ]
  },
  {
   "cell_type": "code",
   "execution_count": 3,
   "id": "c2a95b0d",
   "metadata": {},
   "outputs": [],
   "source": [
    "### Top and Bottom\n",
    "options = Dict(\n",
    "    orientation = -90,\n",
    "    pos_y = 2.5 - 0.3,\n",
    "    # pad_width = '80um',\n",
    "    # pad_length = '200um',\n",
    "    # taper_height = '200um',\n",
    "    trace_width = cpw_width,\n",
    "    trace_gap = '5.1um'\n",
    ")\n",
    "wb1 = LaunchpadWirebond(design, 'wb_top', options=options)\n",
    "\n",
    "options = Dict(\n",
    "    orientation = 90,\n",
    "    pos_y = -2.5 + 0.3,\n",
    "    # pad_width = '80um',\n",
    "    # pad_length = '200um',\n",
    "    # taper_height = '200um',\n",
    "    trace_width = cpw_width,\n",
    "    trace_gap = '5.1um'\n",
    ")\n",
    "wb2 = LaunchpadWirebond(design, 'wb_bottom', options=options)"
   ]
  },
  {
   "cell_type": "code",
   "execution_count": 4,
   "id": "d11cc7af",
   "metadata": {},
   "outputs": [],
   "source": [
    "otg_opts = Dict(pos_x = '-1250um',\n",
    "                pos_y = '1200um',\n",
    "                orientation = '90',\n",
    "                # width = cpw_width)\n",
    ")\n",
    "otg1 = OpenToGround(design, 'otg1', options = otg_opts)\n",
    "\n",
    "clt1_opts = Dict(prime_width = cpw_width,\n",
    "                prime_gap = '5.1um',\n",
    "                second_width = cpw_width,\n",
    "                second_gap = '5.1um',\n",
    "                coupling_space = '7.9um',\n",
    "                coupling_length = '225um',\n",
    "                open_termination = False,\n",
    "                orientation = '-90',\n",
    "                pos_y = '1200um',)\n",
    "                # down_length = '50um')\n",
    "\n",
    "clt1 = CoupledLineTee(design, 'clt1', clt1_opts)\n",
    "\n",
    "cpw1_opts = Dict(pin_inputs = Dict(start_pin = Dict(component = 'clt1',\n",
    "                                                    pin = 'second_end'),\n",
    "                                   end_pin = Dict(component = 'otg1',\n",
    "                                               pin = 'open')),\n",
    "                lead = Dict(start_straight = '50um'),\n",
    "                fillet = '49.9um',\n",
    "                total_length = '3815um',\n",
    "                trace_width = cpw_width,\n",
    "                meander = Dict(spacing = '100um'),\n",
    "                trace_gap = '5.1um')\n",
    "cpw1 = RouteMeander(design, 'cpw1', options = cpw1_opts)"
   ]
  },
  {
   "cell_type": "code",
   "execution_count": 5,
   "id": "ce8993d2",
   "metadata": {},
   "outputs": [],
   "source": [
    "otg_opts = Dict(pos_x = '1250um',\n",
    "                pos_y = '1700um',\n",
    "                orientation = '-90',\n",
    "                # width = cpw_width)\n",
    ")\n",
    "otg2 = OpenToGround(design, 'otg2', options = otg_opts)\n",
    "\n",
    "clt2_opts = Dict(prime_width = cpw_width,\n",
    "                prime_gap = '5.1um',\n",
    "                second_width = cpw_width,\n",
    "                second_gap = '5.1um',\n",
    "                coupling_space = '7.9um',\n",
    "                coupling_length = '225um',\n",
    "                open_termination = False,\n",
    "                orientation = '90',\n",
    "                pos_y = '1700um',)\n",
    "                # down_length = '50um')\n",
    "\n",
    "clt2 = CoupledLineTee(design, 'clt2', clt2_opts)\n",
    "\n",
    "cpw_opts = Dict(pin_inputs = Dict(start_pin = Dict(component = 'clt2',\n",
    "                                                    pin = 'second_end'),\n",
    "                                   end_pin = Dict(component = 'otg2',\n",
    "                                               pin = 'open')),\n",
    "                lead = Dict(start_straight = '50um'),\n",
    "                fillet = '49.9um',\n",
    "                total_length = '3715um',\n",
    "                trace_width = cpw_width,\n",
    "                meander = Dict(spacing = '100um'),\n",
    "                trace_gap = '5.1um')\n",
    "cpw2 = RouteMeander(design, 'cpw2', options = cpw_opts)"
   ]
  },
  {
   "cell_type": "code",
   "execution_count": 6,
   "id": "e5399eaa",
   "metadata": {},
   "outputs": [],
   "source": [
    "otg_opts = Dict(pos_x = '-1250um',\n",
    "                pos_y = '-300um',\n",
    "                orientation = '90',\n",
    "                # width = cpw_width)\n",
    ")\n",
    "otg3 = OpenToGround(design, 'otg3', options = otg_opts)\n",
    "\n",
    "clt_opts = Dict(prime_width = cpw_width,\n",
    "                prime_gap = '5.1um',\n",
    "                second_width = cpw_width,\n",
    "                second_gap = '5.1um',\n",
    "                coupling_space = '7.9um',\n",
    "                coupling_length = '225um',\n",
    "                open_termination = False,\n",
    "                orientation = '-90',\n",
    "                pos_y = '-300um',)\n",
    "                # down_length = '50um')\n",
    "\n",
    "clt3 = CoupledLineTee(design, 'clt3', clt_opts)\n",
    "\n",
    "cpw_opts = Dict(pin_inputs = Dict(start_pin = Dict(component = 'clt3',\n",
    "                                                    pin = 'second_end'),\n",
    "                                   end_pin = Dict(component = 'otg3',\n",
    "                                               pin = 'open')),\n",
    "                lead = Dict(start_straight = '50um'),\n",
    "                fillet = '49.9um',\n",
    "                total_length = '3620um',\n",
    "                trace_width = cpw_width,\n",
    "                meander = Dict(spacing = '100um'),\n",
    "                trace_gap = '5.1um')\n",
    "cpw3 = RouteMeander(design, 'cpw3', options = cpw_opts)"
   ]
  },
  {
   "cell_type": "code",
   "execution_count": 7,
   "id": "f1735625",
   "metadata": {},
   "outputs": [],
   "source": [
    "otg_opts = Dict(pos_x = '1250um',\n",
    "                pos_y = '250um',\n",
    "                orientation = '-90',\n",
    "                # width = cpw_width)\n",
    ")\n",
    "otg4 = OpenToGround(design, 'otg4', options = otg_opts)\n",
    "\n",
    "clt_opts = Dict(prime_width = cpw_width,\n",
    "                prime_gap = '5.1um',\n",
    "                second_width = cpw_width,\n",
    "                second_gap = '5.1um',\n",
    "                coupling_space = '7.9um',\n",
    "                coupling_length = '225um',\n",
    "                open_termination = False,\n",
    "                orientation = '90',\n",
    "                pos_y = '250um',)\n",
    "                # down_length = '50um')\n",
    "\n",
    "clt4 = CoupledLineTee(design, 'clt4', clt_opts)\n",
    "\n",
    "cpw_opts = Dict(pin_inputs = Dict(start_pin = Dict(component = 'clt4',\n",
    "                                                    pin = 'second_end'),\n",
    "                                   end_pin = Dict(component = 'otg4',\n",
    "                                               pin = 'open')),\n",
    "                lead = Dict(start_straight = '50um'),\n",
    "                fillet = '49.9um',\n",
    "                total_length = '3535um',\n",
    "                trace_width = cpw_width,\n",
    "                meander = Dict(spacing = '100um'),\n",
    "                trace_gap = '5.1um')\n",
    "cpw4 = RouteMeander(design, 'cpw4', options = cpw_opts)"
   ]
  },
  {
   "cell_type": "code",
   "execution_count": 8,
   "id": "bd103ab5",
   "metadata": {},
   "outputs": [],
   "source": [
    "otg_opts = Dict(pos_x = '-1250um',\n",
    "                pos_y = '-1500um',\n",
    "                orientation = '90',\n",
    "                # width = cpw_width)\n",
    ")\n",
    "otg5 = OpenToGround(design, 'otg5', options = otg_opts)\n",
    "\n",
    "clt_opts = Dict(prime_width = cpw_width,\n",
    "                prime_gap = '5.1um',\n",
    "                second_width = cpw_width,\n",
    "                second_gap = '5.1um',\n",
    "                coupling_space = '7.9um',\n",
    "                coupling_length = '225um',\n",
    "                open_termination = False,\n",
    "                orientation = '-90',\n",
    "                pos_y = '-1500um',)\n",
    "                # down_length = '50um')\n",
    "\n",
    "clt5 = CoupledLineTee(design, 'clt5', clt_opts)\n",
    "\n",
    "cpw_opts = Dict(pin_inputs = Dict(start_pin = Dict(component = 'clt5',\n",
    "                                                    pin = 'second_end'),\n",
    "                                   end_pin = Dict(component = 'otg5',\n",
    "                                               pin = 'open')),\n",
    "                lead = Dict(start_straight = '50um'),\n",
    "                fillet = '49.9um',\n",
    "                total_length = '3450um',\n",
    "                trace_width = cpw_width,\n",
    "                meander = Dict(spacing = '100um'),\n",
    "                trace_gap = '5.1um')\n",
    "cpw5 = RouteMeander(design, 'cpw5', options = cpw_opts)"
   ]
  },
  {
   "cell_type": "code",
   "execution_count": 9,
   "id": "2eed726e",
   "metadata": {},
   "outputs": [],
   "source": [
    "otg_opts = Dict(pos_x = '1250um',\n",
    "                pos_y = '-1000um',\n",
    "                orientation = '-90',\n",
    "                # width = cpw_width)\n",
    ")\n",
    "otg6 = OpenToGround(design, 'otg6', options = otg_opts)\n",
    "\n",
    "clt_opts = Dict(prime_width = cpw_width,\n",
    "                prime_gap = '5.1um',\n",
    "                second_width = cpw_width,\n",
    "                second_gap = '5.1um',\n",
    "                coupling_space = '7.9um',\n",
    "                coupling_length = '225um',\n",
    "                open_termination = False,\n",
    "                orientation = '90',\n",
    "                pos_y = '-1000um',)\n",
    "                # down_length = '50um')\n",
    "\n",
    "clt6 = CoupledLineTee(design, 'clt6', clt_opts)\n",
    "\n",
    "cpw_opts = Dict(pin_inputs = Dict(start_pin = Dict(component = 'clt6',\n",
    "                                                    pin = 'second_end'),\n",
    "                                   end_pin = Dict(component = 'otg6',\n",
    "                                               pin = 'open')),\n",
    "                lead = Dict(start_straight = '50um'),\n",
    "                fillet = '49.9um',\n",
    "                total_length = '3375um',\n",
    "                trace_width = cpw_width,\n",
    "                meander = Dict(spacing = '100um'),\n",
    "                trace_gap = '5.1um')\n",
    "cpw6 = RouteMeander(design, 'cpw6', options = cpw_opts)"
   ]
  },
  {
   "cell_type": "code",
   "execution_count": 10,
   "id": "59a42c63",
   "metadata": {},
   "outputs": [],
   "source": [
    "# RouteStraight.get_template_options(design)\n",
    "# feedline_opts = Dict(pin_inputs = Dict(start_pin = Dict(component = 'wb_top',\n",
    "#                                                         pin = 'tie'),\n",
    "#                                         end_pin = Dict(component = 'clt2',\n",
    "#                                                         pin = 'prime_end')),\n",
    "#                         trace_width = cpw_width,\n",
    "#                         trace_gap = '5.1um')\n",
    "# feedline = RouteStraight(design, 'feedline', options = feedline_opts)\n",
    "\n",
    "# feedline_opts = Dict(pin_inputs = Dict(start_pin = Dict(component = 'clt2',\n",
    "#                                                         pin = 'prime_start'),\n",
    "#                                         end_pin = Dict(component = 'clt1',\n",
    "#                                                         pin = 'prime_start')),\n",
    "#                         trace_width = cpw_width,\n",
    "#                         trace_gap = '5.1um')\n",
    "# feedline2 = RouteStraight(design, 'feedline2', options = feedline_opts)\n",
    "\n",
    "# feedline_opts = Dict(pin_inputs = Dict(start_pin = Dict(component = 'clt1',\n",
    "#                                                         pin = 'prime_end'),\n",
    "#                                         end_pin = Dict(component = 'clt4',\n",
    "#                                                         pin = 'prime_end')),\n",
    "#                         trace_width = cpw_width,\n",
    "#                         trace_gap = '5.1um')\n",
    "# feedline3 = RouteStraight(design, 'feedline3', options = feedline_opts)\n",
    "\n",
    "# feedline_opts = Dict(pin_inputs = Dict(start_pin = Dict(component = 'clt4',\n",
    "#                                                         pin = 'prime_start'),\n",
    "#                                         end_pin = Dict(component = 'clt3',\n",
    "#                                                         pin = 'prime_start')),\n",
    "#                         trace_width = cpw_width,\n",
    "#                         trace_gap = '5.1um')\n",
    "# feedline4 = RouteStraight(design, 'feedline4', options = feedline_opts)"
   ]
  },
  {
   "cell_type": "code",
   "execution_count": 11,
   "id": "88705d45",
   "metadata": {},
   "outputs": [],
   "source": [
    "feedline_opts = Dict(pin_inputs = Dict(start_pin = Dict(component = 'wb_top',\n",
    "                                                        pin = 'tie'),\n",
    "                                        end_pin = Dict(component = 'wb_bottom',\n",
    "                                                        pin = 'tie')),\n",
    "                        trace_width = cpw_width,\n",
    "                        trace_gap = '5.1um')\n",
    "feedline = RouteStraight(design, 'feedline', options = feedline_opts)"
   ]
  },
  {
   "cell_type": "code",
   "execution_count": 12,
   "id": "1511383b",
   "metadata": {},
   "outputs": [],
   "source": [
    "gui.rebuild()\n",
    "gui.autoscale()\n",
    "# gui.zoom_on_components(['clt5', 'Q5'])\n",
    "# gui.screenshot()"
   ]
  },
  {
   "attachments": {},
   "cell_type": "markdown",
   "id": "b7768ef4",
   "metadata": {},
   "source": [
    "# Save design as .py file"
   ]
  },
  {
   "cell_type": "code",
   "execution_count": 13,
   "id": "ab4f5c5b",
   "metadata": {},
   "outputs": [],
   "source": [
    "script_string = design.to_python_script()\n",
    "with open('linear_resonators_design.py', 'w') as file:\n",
    "    file.write(script_string)"
   ]
  },
  {
   "attachments": {},
   "cell_type": "markdown",
   "id": "a8a598d0",
   "metadata": {},
   "source": [
    "# Save to GDS"
   ]
  },
  {
   "cell_type": "code",
   "execution_count": null,
   "id": "766fbb43",
   "metadata": {},
   "outputs": [],
   "source": [
    "a_gds = design.renderers.gds\n",
    "a_gds.options['cheese']['view_in_file']['main'][1]=False\n",
    "a_gds.options['no_cheese']['view_in_file']['main'][1] = False\n",
    "\n",
    "a_gds.export_to_gds('6LR_test.gds')"
   ]
  },
  {
   "attachments": {},
   "cell_type": "markdown",
   "id": "4d90aec1",
   "metadata": {},
   "source": [
    "# Simulation (EPR)"
   ]
  },
  {
   "cell_type": "code",
   "execution_count": 43,
   "id": "fb15cb25",
   "metadata": {},
   "outputs": [],
   "source": [
    "from qiskit_metal.analyses.quantization import EPRanalysis\n",
    "from qiskit_metal.analyses.simulation import ScatteringImpedanceSim\n",
    "from qiskit_metal.analyses.sweep_and_optimize.sweeping import Sweeping\n",
    "import pyEPR as epr"
   ]
  },
  {
   "cell_type": "code",
   "execution_count": 44,
   "id": "b576f5a8",
   "metadata": {},
   "outputs": [
    {
     "name": "stderr",
     "output_type": "stream",
     "text": [
      "INFO 03:04PM [connect_project]: Connecting to Ansys Desktop API...\n",
      "INFO 03:04PM [load_ansys_project]: \tOpened Ansys App\n",
      "INFO 03:04PM [load_ansys_project]: \tOpened Ansys Desktop v2021.1.0\n",
      "INFO 03:04PM [load_ansys_project]: \tOpened Ansys Project\n",
      "\tFolder:    C:/Users/lfl/Documents/Ansoft/\n",
      "\tProject:   Project2\n",
      "INFO 03:04PM [connect_design]: \tOpened active design\n",
      "\tDesign:    Linear_Resonator [Solution type: DrivenModal]\n",
      "INFO 03:04PM [get_setup]: \tOpened setup `Setup`  (<class 'pyEPR.ansys.HfssDMSetup'>)\n",
      "INFO 03:04PM [connect]: \tConnected to project \"Project2\" and design \"Linear_Resonator\" 😀 \n",
      "\n",
      "03:04PM 12s WARNING [activate_ansys_design]: The design_name=linearresonators_cpw1 was not in active project.  Designs in active project are: \n",
      "['linearresonators_cpw1_hfss', 'Linear_Resonator'].  A new design will be added to the project.  \n",
      "INFO 03:04PM [connect_design]: \tOpened active design\n",
      "\tDesign:    linearresonators_cpw1 [Solution type: Eigenmode]\n",
      "WARNING 03:04PM [connect_setup]: \tNo design setup detected.\n",
      "WARNING 03:04PM [connect_setup]: \tCreating eigenmode default setup.\n",
      "INFO 03:04PM [get_setup]: \tOpened setup `Setup`  (<class 'pyEPR.ansys.HfssEMSetup'>)\n"
     ]
    }
   ],
   "source": [
    "eig_cpw = EPRanalysis(design, \"hfss\")\n",
    "\n",
    "eig_cpw.sim.setup.max_passes = 20\n",
    "eig_cpw.sim.setup.max_delta_f = 0.005\n",
    "eig_cpw.sim.setup.n_modes = 1\n",
    "\n",
    "hfss1 = eig_cpw.sim.renderer\n",
    "\n",
    "\n",
    "# Actviate design\n",
    "hfss1.start()\n",
    "hfss1.activate_ansys_design(\"linearresonators_cpw1\", 'eigenmode')"
   ]
  },
  {
   "cell_type": "code",
   "execution_count": 45,
   "id": "7cad69f9",
   "metadata": {},
   "outputs": [
    {
     "name": "stderr",
     "output_type": "stream",
     "text": [
      "INFO 03:05PM [connect_design]: \tOpened active design\n",
      "\tDesign:    linearresonators_cpw1_hfss [Solution type: Eigenmode]\n"
     ]
    },
    {
     "ename": "com_error",
     "evalue": "(-2147352567, 'Exception occurred.', (0, None, None, None, 0, -2147024381), None)",
     "output_type": "error",
     "traceback": [
      "\u001b[1;31m---------------------------------------------------------------------------\u001b[0m",
      "\u001b[1;31mcom_error\u001b[0m                                 Traceback (most recent call last)",
      "Cell \u001b[1;32mIn[45], line 1\u001b[0m\n\u001b[1;32m----> 1\u001b[0m eig_cpw\u001b[39m.\u001b[39;49msim\u001b[39m.\u001b[39;49mrun(name\u001b[39m=\u001b[39;49m\u001b[39m\"\u001b[39;49m\u001b[39mlinearresonators_cpw1\u001b[39;49m\u001b[39m\"\u001b[39;49m,\n\u001b[0;32m      2\u001b[0m                components\u001b[39m=\u001b[39;49m[\u001b[39m'\u001b[39;49m\u001b[39mcpw1\u001b[39;49m\u001b[39m'\u001b[39;49m, \u001b[39m'\u001b[39;49m\u001b[39mclt1\u001b[39;49m\u001b[39m'\u001b[39;49m],\n\u001b[0;32m      3\u001b[0m                open_terminations\u001b[39m=\u001b[39;49m[(\u001b[39m'\u001b[39;49m\u001b[39mclt1\u001b[39;49m\u001b[39m'\u001b[39;49m, \u001b[39m'\u001b[39;49m\u001b[39mprime_start\u001b[39;49m\u001b[39m'\u001b[39;49m), (\u001b[39m'\u001b[39;49m\u001b[39mclt1\u001b[39;49m\u001b[39m'\u001b[39;49m, \u001b[39m'\u001b[39;49m\u001b[39mprime_end\u001b[39;49m\u001b[39m'\u001b[39;49m), (\u001b[39m'\u001b[39;49m\u001b[39mcpw1\u001b[39;49m\u001b[39m'\u001b[39;49m, \u001b[39m'\u001b[39;49m\u001b[39mend\u001b[39;49m\u001b[39m'\u001b[39;49m)])\n",
      "File \u001b[1;32mc:\\users\\lfl\\qiskit-metal\\qiskit_metal\\analyses\\core\\simulation.py:203\u001b[0m, in \u001b[0;36mQSimulation.run\u001b[1;34m(self, *args, **kwargs)\u001b[0m\n\u001b[0;32m    199\u001b[0m \u001b[39mdef\u001b[39;00m \u001b[39mrun\u001b[39m(\u001b[39mself\u001b[39m, \u001b[39m*\u001b[39margs, \u001b[39m*\u001b[39m\u001b[39m*\u001b[39mkwargs):\n\u001b[0;32m    200\u001b[0m \u001b[39m    \u001b[39m\u001b[39m\"\"\"Alias for run_sim() necessary to implement super-class method, while\u001b[39;00m\n\u001b[0;32m    201\u001b[0m \u001b[39m    preventing method name collision when sim and non-sim QAnalysis classes are inherited.\u001b[39;00m\n\u001b[0;32m    202\u001b[0m \u001b[39m    \"\"\"\u001b[39;00m\n\u001b[1;32m--> 203\u001b[0m     \u001b[39mself\u001b[39;49m\u001b[39m.\u001b[39;49mrun_sim(\u001b[39m*\u001b[39;49margs, \u001b[39m*\u001b[39;49m\u001b[39m*\u001b[39;49mkwargs)\n",
      "File \u001b[1;32mc:\\users\\lfl\\qiskit-metal\\qiskit_metal\\analyses\\simulation\\eigenmode.py:130\u001b[0m, in \u001b[0;36mEigenmodeSim.run_sim\u001b[1;34m(self, name, components, open_terminations, port_list, jj_to_port, ignored_jjs, box_plus_buffer)\u001b[0m\n\u001b[0;32m    127\u001b[0m     \u001b[39mself\u001b[39m\u001b[39m.\u001b[39m_initialize_renderer()\n\u001b[0;32m    129\u001b[0m vars_to_initialize \u001b[39m=\u001b[39m \u001b[39mself\u001b[39m\u001b[39m.\u001b[39msetup\u001b[39m.\u001b[39mvars\n\u001b[1;32m--> 130\u001b[0m renderer_design_name \u001b[39m=\u001b[39m \u001b[39mself\u001b[39;49m\u001b[39m.\u001b[39;49m_render(\n\u001b[0;32m    131\u001b[0m     name\u001b[39m=\u001b[39;49mname,\n\u001b[0;32m    132\u001b[0m     solution_type\u001b[39m=\u001b[39;49m\u001b[39m'\u001b[39;49m\u001b[39meigenmode\u001b[39;49m\u001b[39m'\u001b[39;49m,\n\u001b[0;32m    133\u001b[0m     selection\u001b[39m=\u001b[39;49mcomponents,\n\u001b[0;32m    134\u001b[0m     open_pins\u001b[39m=\u001b[39;49mopen_terminations,\n\u001b[0;32m    135\u001b[0m     port_list\u001b[39m=\u001b[39;49mport_list,\n\u001b[0;32m    136\u001b[0m     jj_to_port\u001b[39m=\u001b[39;49mjj_to_port,\n\u001b[0;32m    137\u001b[0m     ignored_jjs\u001b[39m=\u001b[39;49mignored_jjs,\n\u001b[0;32m    138\u001b[0m     box_plus_buffer\u001b[39m=\u001b[39;49mbox_plus_buffer,\n\u001b[0;32m    139\u001b[0m     vars_to_initialize\u001b[39m=\u001b[39;49mvars_to_initialize)\n\u001b[0;32m    141\u001b[0m \u001b[39mself\u001b[39m\u001b[39m.\u001b[39m_analyze()\n\u001b[0;32m    142\u001b[0m \u001b[39mreturn\u001b[39;00m renderer_design_name, \u001b[39mself\u001b[39m\u001b[39m.\u001b[39msim_setup_name\n",
      "File \u001b[1;32mc:\\users\\lfl\\qiskit-metal\\qiskit_metal\\analyses\\core\\simulation.py:167\u001b[0m, in \u001b[0;36mQSimulation._render\u001b[1;34m(self, solution_type, vars_to_initialize, **design_selection)\u001b[0m\n\u001b[0;32m    165\u001b[0m     \u001b[39mdel\u001b[39;00m design_selection[\u001b[39m\"\u001b[39m\u001b[39mname\u001b[39m\u001b[39m\"\u001b[39m]\n\u001b[0;32m    166\u001b[0m design_name \u001b[39m=\u001b[39m base_name \u001b[39m+\u001b[39m \u001b[39m\"\u001b[39m\u001b[39m_\u001b[39m\u001b[39m\"\u001b[39m \u001b[39m+\u001b[39m \u001b[39mself\u001b[39m\u001b[39m.\u001b[39mrenderer_name\n\u001b[1;32m--> 167\u001b[0m design_name \u001b[39m=\u001b[39m \u001b[39mself\u001b[39;49m\u001b[39m.\u001b[39;49mrenderer\u001b[39m.\u001b[39;49mexecute_design(\n\u001b[0;32m    168\u001b[0m     design_name,\n\u001b[0;32m    169\u001b[0m     solution_type\u001b[39m=\u001b[39;49msolution_type,\n\u001b[0;32m    170\u001b[0m     force_redraw\u001b[39m=\u001b[39;49m\u001b[39mself\u001b[39;49m\u001b[39m.\u001b[39;49msetup\u001b[39m.\u001b[39;49mreuse_selected_design,\n\u001b[0;32m    171\u001b[0m     vars_to_initialize\u001b[39m=\u001b[39;49mvars_to_initialize,\n\u001b[0;32m    172\u001b[0m     \u001b[39m*\u001b[39;49m\u001b[39m*\u001b[39;49mdesign_selection)\n\u001b[0;32m    173\u001b[0m \u001b[39mreturn\u001b[39;00m design_name\n",
      "File \u001b[1;32mc:\\users\\lfl\\qiskit-metal\\qiskit_metal\\renderers\\renderer_ansys\\ansys_renderer.py:756\u001b[0m, in \u001b[0;36mQAnsysRenderer.execute_design\u001b[1;34m(self, design_name, solution_type, vars_to_initialize, force_redraw, **design_selection)\u001b[0m\n\u001b[0;32m    753\u001b[0m     \u001b[39mself\u001b[39m\u001b[39m.\u001b[39mnew_ansys_design(design_name, solution_type)\n\u001b[0;32m    755\u001b[0m \u001b[39mself\u001b[39m\u001b[39m.\u001b[39mset_variables(vars_to_initialize)\n\u001b[1;32m--> 756\u001b[0m \u001b[39mself\u001b[39;49m\u001b[39m.\u001b[39;49mrender_design(\u001b[39m*\u001b[39;49m\u001b[39m*\u001b[39;49mdesign_selection)\n\u001b[0;32m    757\u001b[0m \u001b[39mreturn\u001b[39;00m \u001b[39mself\u001b[39m\u001b[39m.\u001b[39mpinfo\u001b[39m.\u001b[39mdesign\u001b[39m.\u001b[39mname\n",
      "File \u001b[1;32mc:\\users\\lfl\\qiskit-metal\\qiskit_metal\\renderers\\renderer_ansys\\hfss_renderer.py:182\u001b[0m, in \u001b[0;36mQHFSSRenderer.render_design\u001b[1;34m(self, selection, open_pins, port_list, jj_to_port, ignored_jjs, box_plus_buffer)\u001b[0m\n\u001b[0;32m    179\u001b[0m \u001b[39mif\u001b[39;00m ignored_jjs:\n\u001b[0;32m    180\u001b[0m     \u001b[39mself\u001b[39m\u001b[39m.\u001b[39mjj_to_ignore \u001b[39m=\u001b[39m {(qcomp, qelt) \u001b[39mfor\u001b[39;00m qcomp, qelt \u001b[39min\u001b[39;00m ignored_jjs}\n\u001b[1;32m--> 182\u001b[0m \u001b[39mself\u001b[39;49m\u001b[39m.\u001b[39;49mrender_tables()\n\u001b[0;32m    183\u001b[0m \u001b[39mif\u001b[39;00m port_list:\n\u001b[0;32m    184\u001b[0m     \u001b[39mself\u001b[39m\u001b[39m.\u001b[39madd_endcaps(open_pins \u001b[39m+\u001b[39m\n\u001b[0;32m    185\u001b[0m                      [(qcomp, pin) \u001b[39mfor\u001b[39;00m qcomp, pin, _ \u001b[39min\u001b[39;00m port_list])\n",
      "File \u001b[1;32mc:\\users\\lfl\\qiskit-metal\\qiskit_metal\\renderers\\renderer_ansys\\ansys_renderer.py:1052\u001b[0m, in \u001b[0;36mQAnsysRenderer.render_tables\u001b[1;34m(self, skip_junction)\u001b[0m\n\u001b[0;32m   1050\u001b[0m \u001b[39mfor\u001b[39;00m table_type \u001b[39min\u001b[39;00m \u001b[39mself\u001b[39m\u001b[39m.\u001b[39mdesign\u001b[39m.\u001b[39mqgeometry\u001b[39m.\u001b[39mget_element_types():\n\u001b[0;32m   1051\u001b[0m     \u001b[39mif\u001b[39;00m table_type \u001b[39m!=\u001b[39m \u001b[39m\"\u001b[39m\u001b[39mjunction\u001b[39m\u001b[39m\"\u001b[39m \u001b[39mor\u001b[39;00m \u001b[39mnot\u001b[39;00m skip_junction:\n\u001b[1;32m-> 1052\u001b[0m         \u001b[39mself\u001b[39;49m\u001b[39m.\u001b[39;49mrender_components(table_type)\n",
      "File \u001b[1;32mc:\\users\\lfl\\qiskit-metal\\qiskit_metal\\renderers\\renderer_ansys\\ansys_renderer.py:1068\u001b[0m, in \u001b[0;36mQAnsysRenderer.render_components\u001b[1;34m(self, table_type)\u001b[0m\n\u001b[0;32m   1065\u001b[0m     table \u001b[39m=\u001b[39m table[mask]\n\u001b[0;32m   1067\u001b[0m \u001b[39mfor\u001b[39;00m _, qgeom \u001b[39min\u001b[39;00m table\u001b[39m.\u001b[39miterrows():\n\u001b[1;32m-> 1068\u001b[0m     \u001b[39mself\u001b[39;49m\u001b[39m.\u001b[39;49mrender_element(qgeom, \u001b[39mbool\u001b[39;49m(table_type \u001b[39m==\u001b[39;49m \u001b[39m\"\u001b[39;49m\u001b[39mjunction\u001b[39;49m\u001b[39m\"\u001b[39;49m))\n\u001b[0;32m   1070\u001b[0m \u001b[39mif\u001b[39;00m table_type \u001b[39m==\u001b[39m \u001b[39m\"\u001b[39m\u001b[39mpath\u001b[39m\u001b[39m\"\u001b[39m:\n\u001b[0;32m   1071\u001b[0m     \u001b[39mself\u001b[39m\u001b[39m.\u001b[39mauto_wirebonds(table)\n",
      "File \u001b[1;32mc:\\users\\lfl\\qiskit-metal\\qiskit_metal\\renderers\\renderer_ansys\\ansys_renderer.py:1090\u001b[0m, in \u001b[0;36mQAnsysRenderer.render_element\u001b[1;34m(self, qgeom, is_junction)\u001b[0m\n\u001b[0;32m   1088\u001b[0m     \u001b[39mself\u001b[39m\u001b[39m.\u001b[39mrender_element_poly(qgeom)\n\u001b[0;32m   1089\u001b[0m \u001b[39melif\u001b[39;00m \u001b[39misinstance\u001b[39m(qc_shapely, shapely\u001b[39m.\u001b[39mgeometry\u001b[39m.\u001b[39mLineString):\n\u001b[1;32m-> 1090\u001b[0m     \u001b[39mself\u001b[39;49m\u001b[39m.\u001b[39;49mrender_element_path(qgeom)\n",
      "File \u001b[1;32mc:\\users\\lfl\\qiskit-metal\\qiskit_metal\\renderers\\renderer_ansys\\ansys_renderer.py:1245\u001b[0m, in \u001b[0;36mQAnsysRenderer.render_element_path\u001b[1;34m(self, qgeom)\u001b[0m\n\u001b[0;32m   1242\u001b[0m points_3d \u001b[39m=\u001b[39m to_vec3D(points, qc_chip_z)\n\u001b[0;32m   1244\u001b[0m \u001b[39mtry\u001b[39;00m:\n\u001b[1;32m-> 1245\u001b[0m     poly_ansys \u001b[39m=\u001b[39m \u001b[39mself\u001b[39;49m\u001b[39m.\u001b[39;49mmodeler\u001b[39m.\u001b[39;49mdraw_polyline(points_3d,\n\u001b[0;32m   1246\u001b[0m                                             closed\u001b[39m=\u001b[39;49m\u001b[39mFalse\u001b[39;49;00m,\n\u001b[0;32m   1247\u001b[0m                                             \u001b[39m*\u001b[39;49m\u001b[39m*\u001b[39;49mansys_options)\n\u001b[0;32m   1248\u001b[0m \u001b[39mexcept\u001b[39;00m \u001b[39mAttributeError\u001b[39;00m:\n\u001b[0;32m   1249\u001b[0m     \u001b[39mif\u001b[39;00m \u001b[39mself\u001b[39m\u001b[39m.\u001b[39mmodeler \u001b[39mis\u001b[39;00m \u001b[39mNone\u001b[39;00m:\n",
      "File \u001b[1;32mc:\\Users\\lfl\\AppData\\Local\\miniconda3\\envs\\qiskit_metal\\Lib\\site-packages\\pyEPR\\ansys.py:2238\u001b[0m, in \u001b[0;36mHfssModeler.draw_polyline\u001b[1;34m(self, points, closed, **kwargs)\u001b[0m\n\u001b[0;32m   2233\u001b[0m     indexsStr \u001b[39m=\u001b[39m indexsStr[:\u001b[39m-\u001b[39m\u001b[39m1\u001b[39m]\n\u001b[0;32m   2234\u001b[0m     params_closed \u001b[39m=\u001b[39m [\n\u001b[0;32m   2235\u001b[0m         \u001b[39m\"\u001b[39m\u001b[39mIsPolylineCovered:=\u001b[39m\u001b[39m\"\u001b[39m, \u001b[39mTrue\u001b[39;00m, \u001b[39m\"\u001b[39m\u001b[39mIsPolylineClosed:=\u001b[39m\u001b[39m\"\u001b[39m, \u001b[39mFalse\u001b[39;00m\n\u001b[0;32m   2236\u001b[0m     ]\n\u001b[1;32m-> 2238\u001b[0m name \u001b[39m=\u001b[39m \u001b[39mself\u001b[39;49m\u001b[39m.\u001b[39;49m_modeler\u001b[39m.\u001b[39;49mCreatePolyline(\n\u001b[0;32m   2239\u001b[0m     [\u001b[39m\"\u001b[39;49m\u001b[39mNAME:PolylineParameters\u001b[39;49m\u001b[39m\"\u001b[39;49m, \u001b[39m*\u001b[39;49mparams_closed, pointsStr, indexsStr],\n\u001b[0;32m   2240\u001b[0m     \u001b[39mself\u001b[39;49m\u001b[39m.\u001b[39;49m_attributes_array(\u001b[39m*\u001b[39;49m\u001b[39m*\u001b[39;49mkwargs))\n\u001b[0;32m   2242\u001b[0m \u001b[39mif\u001b[39;00m closed:\n\u001b[0;32m   2243\u001b[0m     \u001b[39mreturn\u001b[39;00m Polyline(name, \u001b[39mself\u001b[39m, points)\n",
      "File \u001b[1;32m<COMObject SetActiveEditor>:3\u001b[0m, in \u001b[0;36mCreatePolyline\u001b[1;34m(self, argParamters, argAttributes)\u001b[0m\n",
      "\u001b[1;31mcom_error\u001b[0m: (-2147352567, 'Exception occurred.', (0, None, None, None, 0, -2147024381), None)"
     ]
    }
   ],
   "source": [
    "eig_cpw.sim.run(name=\"linearresonators_cpw1\",\n",
    "               components=['cpw1', 'clt1'],\n",
    "               open_terminations=[('clt1', 'prime_start'), ('clt1', 'prime_end'), ('cpw1', 'end')])"
   ]
  },
  {
   "attachments": {},
   "cell_type": "markdown",
   "id": "927e523c",
   "metadata": {},
   "source": [
    "# Scattering"
   ]
  },
  {
   "cell_type": "code",
   "execution_count": 14,
   "id": "1d1dc830",
   "metadata": {},
   "outputs": [],
   "source": [
    "\n",
    "\n",
    "from qiskit_metal.analyses.simulation import ScatteringImpedanceSim\n",
    "em1 = ScatteringImpedanceSim(design, \"hfss\")\n",
    "\n"
   ]
  },
  {
   "cell_type": "code",
   "execution_count": 15,
   "id": "c7cfb742",
   "metadata": {},
   "outputs": [],
   "source": [
    "design_name= \"Linear_Resonator\"\n",
    "qcomp_render = [] # Means to render everything in qgeometry table.\n",
    "open_terminations = [('cpw1', 'end')]\n",
    "\n",
    "# Here, pin LP1_in and LP2_in are converted into lumped ports,\n",
    "#           each with an impedance of 50 Ohms. <br>\n",
    "port_list = [('clt1', 'prime_start', 50),\n",
    "             ('clt1', 'prime_end', 50)]\n",
    "box_plus_buffer = True"
   ]
  },
  {
   "cell_type": "code",
   "execution_count": 16,
   "id": "60b3f315",
   "metadata": {},
   "outputs": [
    {
     "name": "stderr",
     "output_type": "stream",
     "text": [
      "INFO 03:31PM [connect_project]: Connecting to Ansys Desktop API...\n",
      "INFO 03:31PM [load_ansys_project]: \tOpened Ansys App\n",
      "INFO 03:31PM [load_ansys_project]: \tOpened Ansys Desktop v2021.1.0\n",
      "INFO 03:31PM [load_ansys_project]: \tOpened Ansys Project\n",
      "\tFolder:    C:/Users/lfl/Documents/Ansoft/\n",
      "\tProject:   Project4\n"
     ]
    },
    {
     "name": "stderr",
     "output_type": "stream",
     "text": [
      "INFO 03:31PM [connect_design]: \tOpened active design\n",
      "\tDesign:    Linear_Resonator [Solution type: DrivenModal]\n",
      "INFO 03:31PM [get_setup]: \tOpened setup `Setup`  (<class 'pyEPR.ansys.HfssDMSetup'>)\n",
      "INFO 03:31PM [connect]: \tConnected to project \"Project4\" and design \"Linear_Resonator\" 😀 \n",
      "\n"
     ]
    },
    {
     "data": {
      "text/plain": [
       "True"
      ]
     },
     "execution_count": 16,
     "metadata": {},
     "output_type": "execute_result"
    }
   ],
   "source": [
    "hfss = em1.renderer\n",
    "hfss.start()"
   ]
  },
  {
   "cell_type": "code",
   "execution_count": 30,
   "id": "267a34d9",
   "metadata": {},
   "outputs": [
    {
     "name": "stderr",
     "output_type": "stream",
     "text": [
      "INFO 03:46PM [connect_design]: \tOpened active design\n",
      "\tDesign:    Linear_Resonator [Solution type: DrivenModal]\n",
      "03:46PM 12s WARNING [edit_drivenmodal_setup]: In setup_args, key=max_delta_s, value=0.001 is not in pinfo.setup, the key/value pair from setup_args not added to Setup in Ansys.\n"
     ]
    }
   ],
   "source": [
    "# Here we activate the design for a drivenmodal solution\n",
    "hfss.activate_ansys_design(\"Linear_Resonator\", 'drivenmodal')\n",
    "setup_args = Dict(max_delta_s=0.001)\n",
    "setup_args.name = 'Setup'\n",
    "hfss.edit_drivenmodal_setup(setup_args)"
   ]
  },
  {
   "cell_type": "code",
   "execution_count": 21,
   "id": "a367cbfb",
   "metadata": {},
   "outputs": [],
   "source": [
    "# render the design\n",
    "hfss.clean_active_design()\n",
    "hfss.render_design(selection=['cpw1', 'clt1'], \n",
    "                   open_pins=open_terminations, \n",
    "                   port_list=port_list, \n",
    "                   box_plus_buffer = box_plus_buffer)\n"
   ]
  },
  {
   "cell_type": "code",
   "execution_count": 31,
   "id": "78a10300",
   "metadata": {},
   "outputs": [
    {
     "name": "stderr",
     "output_type": "stream",
     "text": [
      "INFO 03:46PM [get_setup]: \tOpened setup `Setup`  (<class 'pyEPR.ansys.HfssDMSetup'>)\n"
     ]
    },
    {
     "data": {
      "text/plain": [
       "<pyEPR.ansys.HfssFrequencySweep at 0x161376ffcd0>"
      ]
     },
     "execution_count": 31,
     "metadata": {},
     "output_type": "execute_result"
    }
   ],
   "source": [
    "hfss.add_sweep(setup_name=\"Setup\", \n",
    "               name=\"LR_sweep\", \n",
    "               start_ghz=6.0,\n",
    "               stop_ghz=7.0,\n",
    "               count=2001,\n",
    "               type=\"Interpolating\")"
   ]
  },
  {
   "cell_type": "code",
   "execution_count": 32,
   "id": "4dabd057",
   "metadata": {},
   "outputs": [
    {
     "name": "stderr",
     "output_type": "stream",
     "text": [
      "INFO 03:47PM [get_setup]: \tOpened setup `Setup`  (<class 'pyEPR.ansys.HfssDMSetup'>)\n",
      "INFO 03:47PM [analyze]: Analyzing setup Setup : LR_sweep\n"
     ]
    }
   ],
   "source": [
    "\n",
    "\n",
    "hfss.analyze_sweep('LR_sweep', 'Setup')\n",
    "\n"
   ]
  },
  {
   "cell_type": "code",
   "execution_count": null,
   "id": "1b9ada5a",
   "metadata": {},
   "outputs": [],
   "source": []
  },
  {
   "cell_type": "code",
   "execution_count": null,
   "id": "ff5c25f2",
   "metadata": {},
   "outputs": [],
   "source": []
  }
 ],
 "metadata": {
  "kernelspec": {
   "display_name": "qiskit_metal",
   "language": "python",
   "name": "qiskit_metal"
  },
  "language_info": {
   "codemirror_mode": {
    "name": "ipython",
    "version": 3
   },
   "file_extension": ".py",
   "mimetype": "text/x-python",
   "name": "python",
   "nbconvert_exporter": "python",
   "pygments_lexer": "ipython3",
   "version": "3.11.3"
  }
 },
 "nbformat": 4,
 "nbformat_minor": 5
}
